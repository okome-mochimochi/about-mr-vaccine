#impoting libraries
import numpy as np
import seaborn as sns
import matplotlib.pyplot as plt
%matplotlib inline

#サイズ指定、xyのタイル比率の整数倍にするとキレイ
size = (23, 10)
rbl = sns.load_dataset("rubbela_for_sns")
fig, ax = plt.subplots(figsize=size)

# ピボットを生成
rbl = rbl.pivot("year","week","patients")

# X:week　Y:year Colorbar:patients
sns.heatmap(data=rbl, cmap='YlOrRd', annot=False, vmax=25509,vmin=7,)
# PDF出力も可能
plt.savefig("test.png")　
