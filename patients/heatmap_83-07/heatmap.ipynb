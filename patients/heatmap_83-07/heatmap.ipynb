#impoting libraries
import numpy as np
import seaborn as sns
import matplotlib.pyplot as plt
%matplotlib inline

#サイズ指定、xyのタイル比率の整数倍にするとキレイ
size = (23, 10)
rbl = sns.load_dataset("rubbela_for_sns")
fig, ax = plt.subplots(figsize=size)

# ピボットを生成
rbl = rbl.pivot("year","week","patients")

# X:week　Y:year Colorbar:patients
# vmax 軸（Heatbar）の最大値　vmin 軸の最小値　
#　軸の下限を0にする際は、vmin=0　にしてください
sns.heatmap(data=rbl, cmap='YlOrRd', annot=False, vmax=25509,vmin=7,)
# PDF,jpg 出力も可能です
plt.savefig("test.png")　
